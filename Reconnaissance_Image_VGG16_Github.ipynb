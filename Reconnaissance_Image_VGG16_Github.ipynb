{
 "cells": [
  {
   "cell_type": "markdown",
   "metadata": {},
   "source": [
    "## Image Recognition: VGG16 et ImageNet"
   ]
  },
  {
   "cell_type": "markdown",
   "metadata": {},
   "source": [
    "**Objectif**: Classification d'une image par un algorithme de tranfert learning"
   ]
  },
  {
   "cell_type": "markdown",
   "metadata": {},
   "source": [
    "<img src = \"cat.3.jpg\" width = \"400\">"
   ]
  },
  {
   "cell_type": "markdown",
   "metadata": {},
   "source": [
    "**Question**: A quel type de chat appartient ce chat?"
   ]
  },
  {
   "cell_type": "markdown",
   "metadata": {},
   "source": [
    "Le code Python ci-dessous nous aide à répondre à la question."
   ]
  },
  {
   "cell_type": "code",
   "execution_count": 5,
   "metadata": {},
   "outputs": [
    {
     "data": {
      "image/png": "[encoded data removed]",
      "text/plain": [
       "<Figure size 640x480 with 1 Axes>"
      ]
     },
     "metadata": {},
     "output_type": "display_data"
    },
    {
     "name": "stdout",
     "output_type": "stream",
     "text": [
      "('Top 3 :', [('n02123597', 'Siamese_cat', 0.30934158), ('n01877812', 'wallaby', 0.080341235), ('n02326432', 'hare', 0.07509846)])\n"
     ]
    }
   ],
   "source": [
    "#### Fonction de Synthèse de l'ensemble des calculs\n",
    "\n",
    "#### VGG16 préentrainé\n",
    "\n",
    "#### Importation des librairies de deep learning\n",
    "from keras.applications.vgg16 import VGG16\n",
    "from keras.preprocessing.image import load_img, img_to_array\n",
    "from keras.applications.vgg16 import preprocess_input\n",
    "#### Importation de la fonction decode_predictions\n",
    "from keras.applications.vgg16 import decode_predictions\n",
    "import matplotlib.pyplot as plt; plt.rcdefaults()\n",
    "import numpy as np\n",
    "import matplotlib.pyplot as plt\n",
    "import pandas as pd\n",
    "\n",
    "\n",
    "#### Définition de la fonction d'identification du type de l'image\n",
    "\n",
    "def prediction_image(image):\n",
    "    \"\"\"\n",
    "        Donne les trois probabiltés d'appartenance d'une image\n",
    "        Entrée:\n",
    "            image.format\n",
    "        Sortie:\n",
    "            Liste de j éléments: id de l'objet identifié, le type de l'objet identifié, la probabilité d'appartence de l'mage avec l'objet\n",
    "            Graphique des j élements et de leur probabilités\n",
    "    \n",
    "    \"\"\"\n",
    "    ### On lance le modèle VGG16 (Initialisation)\n",
    "    model = VGG16() # Création du modèle VGG-16 implementé par Keras\n",
    "\n",
    "    #### Chargement de l'image\n",
    "    img = load_img(image, target_size=(224, 224))  # Charger l'image\n",
    "    img = img_to_array(img)  # Convertir en tableau numpy\n",
    "    img = img.reshape((1, img.shape[0], img.shape[1], img.shape[2]))  # Créer la collection d'images (un seul échantillon)\n",
    "    img = preprocess_input(img)  # Prétraiter l'image comme le veut VGG-16\n",
    "    y = model.predict(img)  # Prédir la classe de l'image (parmi les 1000 classes d'ImageNet)\n",
    "    \n",
    "    j = 3 ##### On prend les j élément de la liste (Ici 3)\n",
    "    a = 'Top '+str(j)+\" :\", decode_predictions(y, top=j)[0] #### Affiche les j classes les plus probables (Ici 3)\n",
    "    a \n",
    "    #### Extraction des valeurs des types de l'image etdes probabilités asociées.\n",
    "    x = []\n",
    "    y = []\n",
    "    \n",
    "    ##### Création de deux listes à parir du tuple: la premiere est le nom de la catégorie, la seconde la probabilité.\n",
    "    \n",
    "    for i in range(j):\n",
    "        y.append(a[1][i][1]) #### Extraction de la catégorie : liste x\n",
    "        x.append(a[1][i][2]) #### Extraction de la probabilité d'appartenance à la catégorie : liste y\n",
    "    \n",
    "\n",
    "    #### ! Ordre: ordonnée,abscisses (bar plot horizontale)\n",
    "    plt.barh(y, x, align='center', alpha=0.5)\n",
    "    plt.yticks(y, y) #### Ordonnée y : taille\n",
    "    plt.xlabel('Probabilité')\n",
    "    plt.title('Probabilité d\\'appartenance de l\\'image à une de ces catégories')\n",
    "    plt.gca().invert_yaxis()#### On inverse l'axe des ordonnées du barplot horizontale\n",
    "\n",
    "    plt.show()\n",
    "    print(a) \n",
    "    \n",
    "    \n",
    "    \n",
    "b = prediction_image(\"cat.3.jpg\")\n",
    "b #### YYYYYYYYYY!!!!!!!!!!!!!!!!!!!!!!!!!!!!!!!!!!!!!!!!!!!!!!!!!!!!!"
   ]
  },
  {
   "cell_type": "markdown",
   "metadata": {},
   "source": [
    "Il y a donc 30% de chance qu'il s'agissent d'un chat **siamois**."
   ]
  }
 ],
 "metadata": {
  "kernelspec": {
   "display_name": "Python 3",
   "language": "python",
   "name": "python3"
  },
  "language_info": {
   "codemirror_mode": {
    "name": "ipython",
    "version": 3
   },
   "file_extension": ".py",
   "mimetype": "text/x-python",
   "name": "python",
   "nbconvert_exporter": "python",
   "pygments_lexer": "ipython3",
   "version": "3.6.8"
  }
 },
 "nbformat": 4,
 "nbformat_minor": 2
}
